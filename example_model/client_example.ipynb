{
 "cells": [
  {
   "cell_type": "code",
   "execution_count": 1,
   "metadata": {},
   "outputs": [],
   "source": [
    "#!pip install requests"
   ]
  },
  {
   "cell_type": "code",
   "execution_count": 8,
   "metadata": {},
   "outputs": [],
   "source": [
    "HOST = '127.0.0.1'\n",
    "PORT = '8501'\n",
    "MODEL_NAME = 'my_model'\n",
    "url = f'http://{HOST}:{PORT}/v1/models/{MODEL_NAME}'"
   ]
  },
  {
   "cell_type": "code",
   "execution_count": 28,
   "metadata": {},
   "outputs": [],
   "source": [
    "import json\n",
    "import requests\n",
    "\n",
    "def rest_request(text, url=None):\n",
    "    \"\"\"Example inference of a text classification\"\"\"\n",
    "    if url is None:\n",
    "        url = 'http://localhost:8501/v1/models/my_model/versions/1571698198:predict'\n",
    "    payload = json.dumps({\"instances\": [text]})\n",
    "    response = requests.post(url, payload)\n",
    "    return response"
   ]
  },
  {
   "cell_type": "code",
   "execution_count": 43,
   "metadata": {},
   "outputs": [
    {
     "name": "stdout",
     "output_type": "stream",
     "text": [
      "{'predictions': [[0.0526611395, 0.947338879]]}\n"
     ]
    }
   ],
   "source": [
    "rs = rest_request(text=\"This is a really really really really really really really really really really really really really really really really really really really really really really really really really long sentence\")\n",
    "print(rs.json())\n"
   ]
  },
  {
   "cell_type": "code",
   "execution_count": 57,
   "metadata": {},
   "outputs": [],
   "source": [
    "import json\n",
    "import requests\n",
    "\n",
    "def get_model_status(model_name, host='localhost', port='8501', version=None):\n",
    "    url = f\"http://{host}:{port}/v1/models/{model_name}/\"\n",
    "    if version:\n",
    "        url += f\"versions/{version}\"\n",
    "    response = requests.get(url)\n",
    "    return response"
   ]
  },
  {
   "cell_type": "code",
   "execution_count": 62,
   "metadata": {},
   "outputs": [
    {
     "name": "stdout",
     "output_type": "stream",
     "text": [
      "{'error': 'Malformed request: GET /v1/models/my_model/'}\n"
     ]
    }
   ],
   "source": [
    "rs = get_model_status(model_name='my_model')\n",
    "print(rs.json())"
   ]
  },
  {
   "cell_type": "code",
   "execution_count": 60,
   "metadata": {},
   "outputs": [],
   "source": [
    "import json\n",
    "import requests\n",
    "\n",
    "def get_model_metadata(model_name, host='localhost', port='8501', version=None):\n",
    "    url = f\"http://{host}:{port}/v1/models/{model_name}/\"\n",
    "    if version:\n",
    "        url += f\"versions/{version}\"\n",
    "    url += f\"/metadata\"\n",
    "    response = requests.get(url)\n",
    "    return response"
   ]
  },
  {
   "cell_type": "code",
   "execution_count": 61,
   "metadata": {},
   "outputs": [
    {
     "data": {
      "text/plain": [
       "{'model_spec': {'name': 'my_model',\n",
       "  'signature_name': '',\n",
       "  'version': '1571698198'},\n",
       " 'metadata': {'signature_def': {'signature_def': {'serving_default': {'inputs': {'keras_layer_3_input': {'dtype': 'DT_STRING',\n",
       "       'tensor_shape': {'dim': [{'size': '-1', 'name': ''}],\n",
       "        'unknown_rank': False},\n",
       "       'name': 'serving_default_keras_layer_3_input:0'}},\n",
       "     'outputs': {'dense_7': {'dtype': 'DT_FLOAT',\n",
       "       'tensor_shape': {'dim': [{'size': '-1', 'name': ''},\n",
       "         {'size': '2', 'name': ''}],\n",
       "        'unknown_rank': False},\n",
       "       'name': 'StatefulPartitionedCall_2:0'}},\n",
       "     'method_name': 'tensorflow/serving/predict'},\n",
       "    '__saved_model_init_op': {'inputs': {},\n",
       "     'outputs': {'__saved_model_init_op': {'dtype': 'DT_INVALID',\n",
       "       'tensor_shape': {'dim': [], 'unknown_rank': True},\n",
       "       'name': 'NoOp'}},\n",
       "     'method_name': ''}}}}}"
      ]
     },
     "execution_count": 61,
     "metadata": {},
     "output_type": "execute_result"
    }
   ],
   "source": [
    "rs = get_model_metadata(model_name='my_model', version='1571698198')\n",
    "rs.json()"
   ]
  },
  {
   "cell_type": "code",
   "execution_count": null,
   "metadata": {},
   "outputs": [],
   "source": []
  }
 ],
 "metadata": {
  "kernelspec": {
   "display_name": "Python 3",
   "language": "python",
   "name": "python3"
  },
  "language_info": {
   "codemirror_mode": {
    "name": "ipython",
    "version": 3
   },
   "file_extension": ".py",
   "mimetype": "text/x-python",
   "name": "python",
   "nbconvert_exporter": "python",
   "pygments_lexer": "ipython3",
   "version": "3.7.1"
  }
 },
 "nbformat": 4,
 "nbformat_minor": 2
}
