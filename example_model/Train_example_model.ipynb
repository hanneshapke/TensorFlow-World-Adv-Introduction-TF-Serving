{
 "cells": [
  {
   "cell_type": "code",
   "execution_count": 7,
   "metadata": {},
   "outputs": [],
   "source": [
    "import os\n",
    "import time\n",
    "\n",
    "import numpy as np\n",
    "import pandas as pd\n",
    "import tensorflow as tf\n",
    "import tensorflow_hub as hub\n",
    "from tensorflow.keras import backend as K\n",
    "\n",
    "\n",
    "def load_training_data(fpath, num_val_samples=250):\n",
    "    df = pd.read_csv(fpath, usecols=['SentimentText', 'Sentiment'])\n",
    "    df = df.sample(frac=1).reset_index(drop=True)\n",
    "\n",
    "    text = df['SentimentText'].tolist()\n",
    "    text = [str(t).encode('ascii', 'replace') for t in text]\n",
    "    text = np.array(text, dtype=object)[:]\n",
    "    # text = np.array(text, dtype=object)[:, np.newaxis]\n",
    "    # labels = np.asarray(pd.get_dummies(df.label), dtype=np.int8)\n",
    "    labels = df['Sentiment'].tolist()\n",
    "    labels = np.array(pd.get_dummies(labels), dtype=int)[:] \n",
    "\n",
    "    train_text = text[num_val_samples:]\n",
    "    train_labels = labels[num_val_samples:]\n",
    "    val_text = text[:num_val_samples]\n",
    "    val_labels = labels[:num_val_samples]\n",
    "\n",
    "    return (train_text, train_labels), (val_text, val_labels)"
   ]
  },
  {
   "cell_type": "code",
   "execution_count": 8,
   "metadata": {},
   "outputs": [],
   "source": [
    "fpath = \"dataset.csv\"\n",
    "training_data, val_data = load_training_data(fpath)"
   ]
  },
  {
   "cell_type": "code",
   "execution_count": 25,
   "metadata": {},
   "outputs": [],
   "source": [
    "def get_model(num_categories=4):\n",
    "    hub_layer = hub.KerasLayer(\"https://tfhub.dev/google/tf2-preview/nnlm-en-dim50/1\", output_shape=[50], \n",
    "                           input_shape=[], dtype=tf.string)\n",
    "\n",
    "    # hub_layer = hub.KerasLayer(\"https://tfhub.dev/google/tf2-preview/gnews-swivel-20dim-with-oov/1\", output_shape=[20],\n",
    "    #                        input_shape=[], dtype=tf.string)\n",
    "\n",
    "    model = tf.keras.Sequential()\n",
    "    model.add(hub_layer)\n",
    "    model.add(tf.keras.layers.Dense(16, activation='relu'))\n",
    "    model.add(tf.keras.layers.Dense(2, activation='softmax'))\n",
    "\n",
    "    model.summary()\n",
    "    model.compile(loss='categorical_crossentropy',\n",
    "                  optimizer='RMSProp', metrics=['acc'])\n",
    "    return model\n",
    "\n",
    "\n",
    "def train(fpath, epochs=2, batch_size=32):\n",
    "    training_data, val_data = load_training_data(fpath)\n",
    "\n",
    "    model = get_model()\n",
    "    model.fit(training_data[0],\n",
    "              training_data[1],\n",
    "              validation_data=val_data,\n",
    "              epochs=epochs,\n",
    "              batch_size=batch_size)\n",
    "    return model"
   ]
  },
  {
   "cell_type": "code",
   "execution_count": 26,
   "metadata": {
    "scrolled": true
   },
   "outputs": [
    {
     "name": "stdout",
     "output_type": "stream",
     "text": [
      "Model: \"sequential_3\"\n",
      "_________________________________________________________________\n",
      "Layer (type)                 Output Shape              Param #   \n",
      "=================================================================\n",
      "keras_layer_3 (KerasLayer)   (None, 50)                48190600  \n",
      "_________________________________________________________________\n",
      "dense_6 (Dense)              (None, 16)                816       \n",
      "_________________________________________________________________\n",
      "dense_7 (Dense)              (None, 2)                 34        \n",
      "=================================================================\n",
      "Total params: 48,191,450\n",
      "Trainable params: 850\n",
      "Non-trainable params: 48,190,600\n",
      "_________________________________________________________________\n",
      "Train on 24750 samples, validate on 250 samples\n",
      "Epoch 1/2\n",
      "24750/24750 [==============================] - 133s 5ms/sample - loss: 0.5762 - acc: 0.7004 - val_loss: 0.5094 - val_acc: 0.7640\n",
      "Epoch 2/2\n",
      "24750/24750 [==============================] - 138s 6ms/sample - loss: 0.5301 - acc: 0.7347 - val_loss: 0.4992 - val_acc: 0.7600\n"
     ]
    }
   ],
   "source": [
    "    fpath = \"dataset.csv\"\n",
    "    model = train(fpath)"
   ]
  },
  {
   "cell_type": "code",
   "execution_count": 30,
   "metadata": {},
   "outputs": [
    {
     "data": {
      "text/plain": [
       "array([[0.46619886, 0.53380114]], dtype=float32)"
      ]
     },
     "execution_count": 30,
     "metadata": {},
     "output_type": "execute_result"
    }
   ],
   "source": [
    "model.predict([\"Terrible movie.\"])"
   ]
  },
  {
   "cell_type": "code",
   "execution_count": 29,
   "metadata": {},
   "outputs": [
    {
     "data": {
      "text/plain": [
       "array([[0.4473396 , 0.55266035]], dtype=float32)"
      ]
     },
     "execution_count": 29,
     "metadata": {},
     "output_type": "execute_result"
    }
   ],
   "source": [
    "model.predict([\"Very best movie ever.\"])"
   ]
  },
  {
   "cell_type": "code",
   "execution_count": 31,
   "metadata": {},
   "outputs": [],
   "source": [
    "def export_model(model, base_path=\"./exported_models/\"):\n",
    "    path = os.path.join(base_path, str(int(time.time())))\n",
    "    tf.saved_model.save(model, path)"
   ]
  },
  {
   "cell_type": "code",
   "execution_count": 33,
   "metadata": {},
   "outputs": [
    {
     "name": "stdout",
     "output_type": "stream",
     "text": [
      "INFO:tensorflow:Assets written to: ./exported_models/1571698198/assets\n"
     ]
    },
    {
     "name": "stderr",
     "output_type": "stream",
     "text": [
      "INFO:tensorflow:Assets written to: ./exported_models/1571698198/assets\n"
     ]
    }
   ],
   "source": [
    "export_model(model)"
   ]
  },
  {
   "cell_type": "code",
   "execution_count": null,
   "metadata": {},
   "outputs": [],
   "source": []
  }
 ],
 "metadata": {
  "kernelspec": {
   "display_name": "Python 3",
   "language": "python",
   "name": "python3"
  },
  "language_info": {
   "codemirror_mode": {
    "name": "ipython",
    "version": 3
   },
   "file_extension": ".py",
   "mimetype": "text/x-python",
   "name": "python",
   "nbconvert_exporter": "python",
   "pygments_lexer": "ipython3",
   "version": "3.7.1"
  }
 },
 "nbformat": 4,
 "nbformat_minor": 2
}
